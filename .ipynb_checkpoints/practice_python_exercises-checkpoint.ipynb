{
 "cells": [
  {
   "cell_type": "markdown",
   "metadata": {},
   "source": [
    "# Esercizio numero 1"
   ]
  },
  {
   "cell_type": "markdown",
   "metadata": {},
   "source": [
    "https://www.practicepython.org/exercise/2014/01/29/01-character-input.html"
   ]
  },
  {
   "cell_type": "code",
   "execution_count": 2,
   "metadata": {
    "scrolled": true
   },
   "outputs": [
    {
     "name": "stdout",
     "output_type": "stream",
     "text": [
      "This program will tell you the year you will turn 100 years old.\n",
      "\n",
      "Please enter your name: a\n",
      "Please enter your age this year: 29\n",
      "Hi a, you will turn 100yrs old on year 2092\n"
     ]
    }
   ],
   "source": [
    "import datetime\n",
    "now = datetime.datetime.now()\n",
    "\n",
    "print(\"This program will tell you the year you will turn 100 years old.\\n\")\n",
    "name = input(\"Please enter your name: \")\n",
    "\n",
    "def valid_age_input(age):\n",
    "    \"\"\"age = input(\"Please enter your age this year: \")\"\"\"\n",
    "    try:\n",
    "        age = int(age)\n",
    "    except:\n",
    "        print (\"age must be a number\")\n",
    "    if age < 0 or age >100:\n",
    "        raise Exception(\"Sorry, no numbers below zero or over 100\")\n",
    "    return age\n",
    "\n",
    "age = valid_age_input(input(\"Please enter your age this year: \"))\n",
    "\n",
    "year_100 = now.year - age + 100\n",
    "print(\"Hi %s, you will turn 100yrs old on year %d\" % (name, year_100))\n"
   ]
  },
  {
   "cell_type": "markdown",
   "metadata": {},
   "source": [
    "# Esercizio numero 2"
   ]
  },
  {
   "cell_type": "markdown",
   "metadata": {},
   "source": [
    "https://www.practicepython.org/exercise/2014/02/05/02-odd-or-even.html\n",
    "Ask the user for a number. Depending on whether the number is even or odd, print out an appropriate message to the user. Hint: how does an even / odd number react differently when divided by 2?\n",
    "\n",
    "Extras:\n",
    "\n",
    "1. If the number is a multiple of 4, print out a different message.\n",
    "2. Ask the user for two numbers: one number to check (call it num) and one number to divide by (check). If check divides evenly into num, tell that to the user. If not, print a different appropriate message."
   ]
  },
  {
   "cell_type": "code",
   "execution_count": 5,
   "metadata": {
    "scrolled": true
   },
   "outputs": [
    {
     "name": "stdout",
     "output_type": "stream",
     "text": [
      "This program tells you if a number is even or odd.\n",
      "please enter the number to check: 20\n",
      "20 is even\n",
      "20 is a multiple of 4\n"
     ]
    }
   ],
   "source": [
    "print(\"This program tells you if a number is even or odd.\")\n",
    "\n",
    "num = int(input(\"please enter the number to check: \"))\n",
    "\n",
    "def is_multiple_of_4(number):#checking if the number is a multiple of 4 -Extra nb1\n",
    "    if number % 4 == 0: \n",
    "            print(\"{} is a multiple of 4\".format(number))\n",
    "\n",
    "def is_even_or_odd(number): #checking if the number is even or odd - Exercise request\n",
    "    if number % 2 == 0:\n",
    "        print(\"{} is even\".format(number))   \n",
    "    else:\n",
    "        print(\"{} is odd\".format(number))\n",
    "\n",
    "        \n",
    "is_even_or_odd(num)\n",
    "is_multiple_of_4(num)"
   ]
  },
  {
   "cell_type": "markdown",
   "metadata": {},
   "source": [
    "# Exercise number 3"
   ]
  },
  {
   "cell_type": "markdown",
   "metadata": {},
   "source": [
    "https://www.practicepython.org/exercise/2014/02/15/03-list-less-than-ten.html\n",
    "\n",
    "Take a list, say for example this one:\n",
    "\n",
    "a = [1, 1, 2, 3, 5, 8, 13, 21, 34, 55, 89]\n",
    "\n",
    "and write a program that prints out all the elements of the list that are less than 5.\n",
    "\n",
    "Extras:\n",
    "\n",
    "1. Instead of printing the elements one by one, make a new list that has all the elements less than 5 from this list in it and print out this new list.\n",
    "2. Write this in one line of Python.\n",
    "3. Ask the user for a number and return a list that contains only elements from the original list a that are smaller than that number given by the user."
   ]
  },
  {
   "cell_type": "code",
   "execution_count": 9,
   "metadata": {},
   "outputs": [
    {
     "name": "stdout",
     "output_type": "stream",
     "text": [
      "1\n",
      "1\n",
      "2\n",
      "3\n"
     ]
    }
   ],
   "source": [
    "#Exercise solution below\n",
    "a = [1, 1, 2, 3, 5, 8, 13, 21, 34, 55, 89]\n",
    "for num in a:\n",
    "    if num < 5:\n",
    "        print(num)"
   ]
  },
  {
   "cell_type": "code",
   "execution_count": 10,
   "metadata": {},
   "outputs": [
    {
     "data": {
      "text/plain": [
       "[1, 1, 2, 3]"
      ]
     },
     "execution_count": 10,
     "metadata": {},
     "output_type": "execute_result"
    }
   ],
   "source": [
    "#------------------------ Extras num 1. below\n",
    "a = [1, 1, 2, 3, 5, 8, 13, 21, 34, 55, 89]\n",
    "nums_under_5_in_a = []\n",
    "for num in a:\n",
    "    if num < 5:\n",
    "        nums_under_5_in_a.append(num)\n",
    "nums_under_5_in_a"
   ]
  },
  {
   "cell_type": "code",
   "execution_count": 13,
   "metadata": {
    "scrolled": true
   },
   "outputs": [
    {
     "name": "stdout",
     "output_type": "stream",
     "text": [
      "your list: \n",
      " [1, 1, 2, 3, 5, 8, 13, 21, 34, 55, 89]\n",
      "insert a threshold value, all numbers smaller than the threshold will be listed below: 100\n"
     ]
    },
    {
     "data": {
      "text/plain": [
       "[1, 1, 2, 3, 5, 8, 13, 21, 34, 55, 89]"
      ]
     },
     "execution_count": 13,
     "metadata": {},
     "output_type": "execute_result"
    }
   ],
   "source": [
    "#---------------- Extras number 3 below\n",
    "a = [1, 1, 2, 3, 5, 8, 13, 21, 34, 55, 89]\n",
    "print(\"your list: \\n\", a)\n",
    "threshold = float(input(\"insert a threshold value, all numbers smaller than the threshold will be listed below: \"))\n",
    "elements_in_a_below_threshold = []\n",
    "for num in a:\n",
    "    if num < threshold:\n",
    "        elements_in_a_below_threshold.append(num)\n",
    "elements_in_a_below_threshold"
   ]
  },
  {
   "cell_type": "markdown",
   "metadata": {},
   "source": [
    "Stesso esercizio svolto usando una comprensione di lista:"
   ]
  },
  {
   "cell_type": "code",
   "execution_count": 1,
   "metadata": {},
   "outputs": [
    {
     "name": "stdout",
     "output_type": "stream",
     "text": [
      "your list: \n",
      " [1, 1, 2, 3, 5, 8, 13, 21, 34, 55, 89]\n",
      "insert a threshold value, all numbers smaller than the threshold will be listed below: 14\n"
     ]
    },
    {
     "data": {
      "text/plain": [
       "[1, 1, 2, 3, 5, 8, 13]"
      ]
     },
     "execution_count": 1,
     "metadata": {},
     "output_type": "execute_result"
    }
   ],
   "source": [
    "a = [1, 1, 2, 3, 5, 8, 13, 21, 34, 55, 89]\n",
    "print(\"your list: \\n\", a)\n",
    "threshold = float(input(\"insert a threshold value, all numbers smaller than the threshold will be listed below: \"))\n",
    "elements_in_a_below_threshold = [num for num in a if num < threshold]\n",
    "elements_in_a_below_threshold"
   ]
  },
  {
   "cell_type": "markdown",
   "metadata": {},
   "source": [
    "# Exercise number 4"
   ]
  },
  {
   "cell_type": "markdown",
   "metadata": {},
   "source": [
    "https://www.practicepython.org/exercise/2014/02/26/04-divisors.html <br>\n",
    "Create a program that asks the user for a number and then prints out a list of all the divisors of that number. <br>\n",
    "(If you don’t know what a divisor is, it is a number that divides evenly into another number. For example, 13 is a divisor of 26 because 26 / 13 has no remainder.)"
   ]
  },
  {
   "cell_type": "code",
   "execution_count": 4,
   "metadata": {
    "scrolled": true
   },
   "outputs": [
    {
     "name": "stdout",
     "output_type": "stream",
     "text": [
      "Write a number you want to know the divisors of: 789\n",
      "the divisors of 789 are:  [1, 3, 263]\n"
     ]
    }
   ],
   "source": [
    "def calculate_divisors(number): #calculates the divisors of number and returns a list with all of them.\n",
    "    divisors = []\n",
    "    for i in range(1, number):\n",
    "        if number % i == 0:\n",
    "            divisors.append(i)\n",
    "    return divisors\n",
    "\n",
    "input_num = int(input(\"Write a number you want to know the divisors of: \"))\n",
    "divisors_list = calculate_divisors(input_num)\n",
    "print(\"the divisors of {} are: \".format(input_num), divisors_list)\n"
   ]
  },
  {
   "cell_type": "markdown",
   "metadata": {},
   "source": [
    "# Exercise number 5"
   ]
  },
  {
   "cell_type": "markdown",
   "metadata": {},
   "source": [
    "https://www.practicepython.org/exercise/2014/03/05/05-list-overlap.html <br>\n",
    "Take two lists, say for example these two:\n",
    "\n",
    "  a = [1, 1, 2, 3, 5, 8, 13, 21, 34, 55, 89] <br>\n",
    "  b = [1, 2, 3, 4, 5, 6, 7, 8, 9, 10, 11, 12, 13] <br>\n",
    "and write a program that returns a list that contains only the elements that are common between the lists (without duplicates). Make sure your program works on two lists of different sizes.\n",
    "\n",
    "Extras:\n",
    "\n",
    "1. Randomly generate two lists to test this\n",
    "2. Write this in one line of Python (don’t worry if you can’t figure this out at this point - we’ll get to it soon)"
   ]
  },
  {
   "cell_type": "code",
   "execution_count": 5,
   "metadata": {
    "scrolled": true
   },
   "outputs": [
    {
     "data": {
      "text/plain": [
       "[1, 2, 3, 5, 8, 13]"
      ]
     },
     "execution_count": 5,
     "metadata": {},
     "output_type": "execute_result"
    }
   ],
   "source": [
    "def intersection(list1, list2): # It takes 2 lists and returns a list made up of only the \\\n",
    "                                # common elements between the two, without duplicates\n",
    "    intersect = []\n",
    "    for element in list1:\n",
    "        if element in list2 and element not in intersect:\n",
    "                intersect.append(element)\n",
    "    return intersect\n",
    "\n",
    "a = [1, 1, 2, 3, 5, 8, 13, 21, 34, 55, 89]\n",
    "b = [1, 2, 3, 4, 5, 6, 7, 8, 9, 10, 11, 12, 13]\n",
    "\n",
    "intersection(a,b)"
   ]
  },
  {
   "cell_type": "markdown",
   "metadata": {},
   "source": [
    "Extra nb 1"
   ]
  },
  {
   "cell_type": "code",
   "execution_count": 8,
   "metadata": {
    "scrolled": true
   },
   "outputs": [
    {
     "name": "stdout",
     "output_type": "stream",
     "text": [
      "[25, 22, 18, 28, 12, 27, 19, 15, 24, 10] [26, 18, 25, 10, 16, 23, 22, 21, 13, 19]\n",
      "[25, 22, 18, 19, 10]\n"
     ]
    }
   ],
   "source": [
    "import random\n",
    "\n",
    "def intersection(list1, list2): # It takes 2 lists and returns a list made up of only the \\\n",
    "                                # common elements between the two, without duplicates\n",
    "    intersect = []\n",
    "    for element in list1:\n",
    "        if element in list2 and element not in intersect:\n",
    "                intersect.append(element)\n",
    "    return intersect\n",
    "\n",
    "a = random.sample(range(10, 30), 10) #Generate 10 random numbers between 10 and 30\n",
    "b = random.sample(range(10, 30), 10) \n",
    "\n",
    "print(a, b)\n",
    "print(intersection(a,b))"
   ]
  },
  {
   "cell_type": "markdown",
   "metadata": {},
   "source": [
    "Same program with some advanced coding: (sets see: https://www.learnpython.org/en/Sets , Generators see https://www.learnpython.org/en/Generators)"
   ]
  },
  {
   "cell_type": "code",
   "execution_count": 7,
   "metadata": {
    "scrolled": true
   },
   "outputs": [
    {
     "name": "stdout",
     "output_type": "stream",
     "text": [
      "[1, 2, 3, 5, 8, 13]\n"
     ]
    }
   ],
   "source": [
    "a = [1, 1, 2, 3, 5, 8, 13, 21, 34, 55, 89]\n",
    "b = [1, 2, 3, 4, 5, 6, 7, 8, 9, 10, 11, 12, 13]\n",
    "\n",
    "A = set(a)\n",
    "B = set(b)\n",
    "\n",
    "list(A.intersection(B))"
   ]
  },
  {
   "cell_type": "markdown",
   "metadata": {},
   "source": [
    "In un rigo"
   ]
  },
  {
   "cell_type": "code",
   "execution_count": 8,
   "metadata": {},
   "outputs": [
    {
     "name": "stdout",
     "output_type": "stream",
     "text": [
      "[1, 2, 3, 5, 8, 13]\n"
     ]
    }
   ],
   "source": [
    "a = [1, 1, 2, 3, 5, 8, 13, 21, 34, 55, 89]\n",
    "b = [1, 2, 3, 4, 5, 6, 7, 8, 9, 10, 11, 12, 13]\n",
    "\n",
    "print(list(set(a).intersection(set(b))))"
   ]
  },
  {
   "cell_type": "markdown",
   "metadata": {},
   "source": [
    "# Exercise 6\n",
    "        "
   ]
  },
  {
   "cell_type": "markdown",
   "metadata": {},
   "source": [
    "Ask the user for a string and print out whether this string is a palindrome or not. (A palindrome is a string that reads the same forwards and backwards.)"
   ]
  },
  {
   "cell_type": "code",
   "execution_count": 3,
   "metadata": {
    "scrolled": true
   },
   "outputs": [
    {
     "name": "stdout",
     "output_type": "stream",
     "text": [
      "This program checks if the string you write is a palindrome\n",
      "Type something: ada ada\n",
      "Checking if the string is a palindrome...\n",
      "This string is a palindrome!\n"
     ]
    }
   ],
   "source": [
    "print(\"This program checks if the string you write is a palindrome\")\n",
    "input_str = input(\"Type something: \")\n",
    "print(\"Checking if the string is a palindrome...\")\n",
    "\n",
    "if input_str == input_str[::-1]:\n",
    "    print(\"This string is a palindrome!\")\n",
    "else:\n",
    "    print(\"This string is not a palindrome.\")"
   ]
  },
  {
   "cell_type": "markdown",
   "metadata": {},
   "source": [
    "# Exercise 7"
   ]
  },
  {
   "cell_type": "markdown",
   "metadata": {},
   "source": [
    "Let’s say I give you a list saved in a variable: a = [1, 4, 9, 16, 25, 36, 49, 64, 81, 100]. Write one line of Python that takes this list a and makes a new list that has only the even elements of this list in it."
   ]
  },
  {
   "cell_type": "code",
   "execution_count": 13,
   "metadata": {
    "scrolled": true
   },
   "outputs": [
    {
     "name": "stdout",
     "output_type": "stream",
     "text": [
      "[4, 16, 36, 64, 100]\n"
     ]
    }
   ],
   "source": [
    "a = [1, 4, 9, 16, 25, 36, 49, 64, 81, 100]\n",
    "\n",
    "b = [num for num in a if num % 2 == 0]\n",
    "\n",
    "print(b)"
   ]
  },
  {
   "cell_type": "markdown",
   "metadata": {},
   "source": [
    "# Exercise 8"
   ]
  },
  {
   "cell_type": "markdown",
   "metadata": {},
   "source": [
    "Make a two-player Rock-Paper-Scissors game. (Hint: Ask for player plays (using input), compare them, print out a message of congratulations to the winner, and ask if the players want to start a new game)"
   ]
  },
  {
   "cell_type": "code",
   "execution_count": 3,
   "metadata": {
    "scrolled": false
   },
   "outputs": [
    {
     "name": "stdout",
     "output_type": "stream",
     "text": [
      "Rock-Paper-Scissor game.\n",
      "MAIN MENU: \n",
      "Type: 'help' for help, or type 'start' to start the game: \n",
      "start\n",
      "LET'S PLAY: \n",
      "Player 1, make your move! (type 'Rock' or 'Paper' or 'Scissors')Scissors\n",
      "Player 2, make your move! (type 'Rock' or 'Paper' or 'Scissors')Paper\n",
      "Player 1 Wins\n",
      "New Game? (Y/N)y\n",
      "LET'S PLAY: \n",
      "Player 1, make your move! (type 'Rock' or 'Paper' or 'Scissors')pappa\n",
      "Player 2, make your move! (type 'Rock' or 'Paper' or 'Scissors')cacca\n",
      "New Game? (Y/N)n\n"
     ]
    }
   ],
   "source": [
    "\n",
    "def play():\n",
    "    while True:\n",
    "        print(\"LET'S PLAY: \")\n",
    "        player1 = input(\"Player 1, make your move! (type 'Rock' or 'Paper' or 'Scissors')\")\n",
    "        player2 = input(\"Player 2, make your move! (type 'Rock' or 'Paper' or 'Scissors')\")\n",
    "        if player1 == 'Rock':\n",
    "            if player2 == 'Rock':\n",
    "                print('Draw')\n",
    "            if player2 == 'Paper':\n",
    "                print('Player 2 Wins')\n",
    "            if player2 == 'Scissors':\n",
    "                print('Player 1 Wins')\n",
    "\n",
    "        if player1 == 'Paper':\n",
    "            if player2 == 'Rock':\n",
    "                print('Player 1 Wins')\n",
    "            if player2 == 'Paper':\n",
    "                print('Draw')\n",
    "            if player2 == 'Scissors':\n",
    "                print('Player 2 Wins')\n",
    "\n",
    "        if player1 == 'Scissors':\n",
    "            if player2 == 'Rock':\n",
    "                print('Player 2 Wins')\n",
    "            if player2 == 'Paper':\n",
    "                print('Player 1 Wins')\n",
    "            if player2 == 'Scissors':\n",
    "                print('Draw')\n",
    "        new_game = input('New Game? (Y/N)')\n",
    "        if new_game in ['y', 'Y']:\n",
    "            continue\n",
    "        else:\n",
    "            break\n",
    "            \n",
    "def help_menu():\n",
    "    pass\n",
    "\n",
    "def main_menu():\n",
    "    print(\"Rock-Paper-Scissor game.\")\n",
    "    print(\"MAIN MENU: \")\n",
    "\n",
    "    while True:\n",
    "        command = input(\"Type: 'help' for help, or type 'start' to start the game: \\n\")\n",
    "        if command == 'help':\n",
    "            help_menu()\n",
    "            break\n",
    "        elif command == 'start':\n",
    "            play()\n",
    "            break\n",
    "        else:\n",
    "            print(\"invalid command '{}'.\".format(first_command))\n",
    "\n",
    "main_menu()"
   ]
  },
  {
   "cell_type": "code",
   "execution_count": null,
   "metadata": {},
   "outputs": [],
   "source": []
  }
 ],
 "metadata": {
  "kernelspec": {
   "display_name": "Python 3",
   "language": "python",
   "name": "python3"
  },
  "language_info": {
   "codemirror_mode": {
    "name": "ipython",
    "version": 3
   },
   "file_extension": ".py",
   "mimetype": "text/x-python",
   "name": "python",
   "nbconvert_exporter": "python",
   "pygments_lexer": "ipython3",
   "version": "3.8.5"
  }
 },
 "nbformat": 4,
 "nbformat_minor": 4
}
